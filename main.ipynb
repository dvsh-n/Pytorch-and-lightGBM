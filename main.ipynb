{
 "cells": [
  {
   "cell_type": "markdown",
   "metadata": {},
   "source": [
    "Importing necessrary libraries"
   ]
  },
  {
   "cell_type": "code",
   "execution_count": 1,
   "metadata": {},
   "outputs": [],
   "source": [
    "import numpy as np\n",
    "import random\n",
    "import torch\n",
    "from torch.autograd import Variable\n",
    "import torch.nn as nn\n",
    "from scipy.special import expit, logit\n",
    "from sklearn.model_selection import train_test_split\n",
    "from sklearn.metrics import accuracy_score\n",
    "import matplotlib.pyplot as plt\n",
    "import time"
   ]
  },
  {
   "cell_type": "markdown",
   "metadata": {},
   "source": [
    "Generating Data randomly with a nonlinear calculation method for target"
   ]
  },
  {
   "cell_type": "code",
   "execution_count": 2,
   "metadata": {},
   "outputs": [],
   "source": [
    "n_samples = 2000\n",
    "random_state = np.random.RandomState(13)\n",
    "x1 = random_state.uniform(size=n_samples)\n",
    "x2 = random_state.uniform(size=n_samples)\n",
    "x3 = random_state.randint(0, 4, size=n_samples)\n",
    "x4 = random_state.uniform(size=n_samples) \n",
    "X = np.c_[x1,x2,x3,x4]\n",
    "\n",
    "p = expit(np.sin(3 * x1) - 4 * x2 + x3)\n",
    "Y = random_state.binomial(1, p, size=n_samples)"
   ]
  },
  {
   "cell_type": "markdown",
   "metadata": {},
   "source": [
    "Standardizing and generating Train-Test Split"
   ]
  },
  {
   "cell_type": "code",
   "execution_count": 3,
   "metadata": {},
   "outputs": [],
   "source": [
    "from sklearn.preprocessing import StandardScaler\n",
    "from sklearn.model_selection import train_test_split\n",
    "\n",
    "stdsc = StandardScaler()\n",
    "X_std = stdsc.fit_transform(X)\n",
    "\n",
    "X_train, X_test, Y_train, Y_test = train_test_split(X_std, Y, test_size=0.3, random_state=0)"
   ]
  },
  {
   "cell_type": "markdown",
   "metadata": {},
   "source": [
    "Model Results Dict"
   ]
  },
  {
   "cell_type": "code",
   "execution_count": 4,
   "metadata": {},
   "outputs": [],
   "source": [
    "Model_Results = {}"
   ]
  },
  {
   "cell_type": "code",
   "execution_count": 5,
   "metadata": {},
   "outputs": [],
   "source": [
    "def num_misclassifications(y_true, y_pred):\n",
    "    res = 0\n",
    "    for i in range(len(y_true)):\n",
    "        if y_true[i] != y_pred[i]:\n",
    "            res += 1\n",
    "    return res"
   ]
  },
  {
   "cell_type": "markdown",
   "metadata": {},
   "source": [
    "Sklearn Logistic Regression"
   ]
  },
  {
   "cell_type": "code",
   "execution_count": 6,
   "metadata": {},
   "outputs": [
    {
     "name": "stdout",
     "output_type": "stream",
     "text": [
      "(0.745, 357, 0.72, 168, 0.005649566650390625)\n"
     ]
    }
   ],
   "source": [
    "from sklearn.linear_model import LogisticRegression\n",
    "from sklearn.metrics import accuracy_score\n",
    "\n",
    "LR_model = LogisticRegression()\n",
    "t_start = time.time()\n",
    "LR_model.fit(X_train, Y_train)\n",
    "t_end = time.time()\n",
    "\n",
    "LR_training_time = t_end - t_start\n",
    "\n",
    "Y_LR_Pred = LR_model.predict(X_train)\n",
    "LR_train_accuracy = accuracy_score(Y_train, Y_LR_Pred)\n",
    "LR_train_misclass = num_misclassifications(Y_train, Y_LR_Pred)\n",
    "\n",
    "Y_LR_Pred_t = LR_model.predict(X_test)\n",
    "LR_test_accuracy = accuracy_score(Y_test, Y_LR_Pred_t)\n",
    "LR_test_misclass = num_misclassifications(Y_test, Y_LR_Pred_t)\n",
    "\n",
    "\n",
    "Model_Results[\"Logistic Regression\"] = (LR_train_accuracy, LR_train_misclass, LR_test_accuracy, LR_test_misclass, LR_training_time)\n",
    "print(Model_Results[\"Logistic Regression\"])"
   ]
  },
  {
   "cell_type": "markdown",
   "metadata": {},
   "source": [
    "SVM"
   ]
  },
  {
   "cell_type": "code",
   "execution_count": 7,
   "metadata": {},
   "outputs": [
    {
     "name": "stdout",
     "output_type": "stream",
     "text": [
      "(0.7628571428571429, 332, 0.715, 171, 0.05727887153625488)\n"
     ]
    }
   ],
   "source": [
    "from sklearn.svm import SVC\n",
    "\n",
    "SVM_model = SVC()\n",
    "t_start = time.time()\n",
    "SVM_model.fit(X_train, Y_train)\n",
    "t_end = time.time()\n",
    "\n",
    "SVM_training_time = t_end - t_start\n",
    "\n",
    "Y_SVM_Pred = SVM_model.predict(X_train)\n",
    "SVM_train_accuracy = accuracy_score(Y_train, Y_SVM_Pred)\n",
    "SVM_train_misclass = num_misclassifications(Y_train, Y_SVM_Pred)\n",
    "\n",
    "Y_SVM_Pred_t = SVM_model.predict(X_test)\n",
    "SVM_test_accuracy = accuracy_score(Y_test, Y_SVM_Pred_t)\n",
    "SVM_test_misclass = num_misclassifications(Y_test, Y_SVM_Pred_t)\n",
    "\n",
    "Model_Results[\"SVM\"] = (SVM_train_accuracy, SVM_train_misclass, SVM_test_accuracy, SVM_test_misclass, SVM_training_time)\n",
    "print(Model_Results[\"SVM\"])"
   ]
  },
  {
   "cell_type": "markdown",
   "metadata": {},
   "source": [
    "LGBM"
   ]
  },
  {
   "cell_type": "code",
   "execution_count": 8,
   "metadata": {},
   "outputs": [
    {
     "name": "stdout",
     "output_type": "stream",
     "text": [
      "(0.8535714285714285, 205, 0.705, 177, 0.11307382583618164)\n"
     ]
    }
   ],
   "source": [
    "import lightgbm as lgb\n",
    "import warnings\n",
    "warnings.filterwarnings(\"ignore\")\n",
    "\n",
    "LGB_train = lgb.Dataset(X_train, Y_train)\n",
    "LGB_test = lgb.Dataset(X_test, Y_test)\n",
    "\n",
    "## defaults num_leaves = 31,\n",
    "params = {'force_col_wise': True, 'boosting_type': 'gbdt', 'num_iterations': 100,\n",
    "         'n_estimators': 100, 'max_depth': 5, 'num_leaves': 100, 'feature_fraction': 0.75,\n",
    "         'bagging_fraction': 0.75, 'bagging_freq': 1, 'lambda': 0.5, 'random_state': 3, 'verbose': -1}\n",
    "\n",
    "t_start = time.time()\n",
    "LGB_model = lgb.train(params, LGB_train, valid_sets=[LGB_train, LGB_test])\n",
    "t_end = time.time()\n",
    "\n",
    "LGB_training_time = t_end - t_start\n",
    "\n",
    "Y_LGB_Pred = LGB_model.predict(X_train)\n",
    "Y_LGB_Pred = np.where(Y_LGB_Pred<0.5,0,1)\n",
    "LGB_train_accuracy = accuracy_score(Y_train, Y_LGB_Pred)\n",
    "LGB_train_misclass = num_misclassifications(Y_train, Y_LGB_Pred)\n",
    "\n",
    "Y_LGB_Pred_t = LGB_model.predict(X_test)\n",
    "Y_LGB_Pred_t = np.where(Y_LGB_Pred_t<0.5,0,1)\n",
    "LGB_test_accuracy = accuracy_score(Y_test, Y_LGB_Pred_t)\n",
    "LGB_test_misclass = num_misclassifications(Y_test, Y_LGB_Pred_t)\n",
    "\n",
    "Model_Results[\"LGB\"] = (LGB_train_accuracy, LGB_train_misclass, LGB_test_accuracy, LGB_test_misclass, LGB_training_time)\n",
    "print(Model_Results[\"LGB\"])"
   ]
  },
  {
   "cell_type": "markdown",
   "metadata": {},
   "source": [
    "Pytorch"
   ]
  },
  {
   "cell_type": "code",
   "execution_count": 14,
   "metadata": {},
   "outputs": [
    {
     "name": "stdout",
     "output_type": "stream",
     "text": [
      "99 17.5\n",
      "199 8.125\n",
      "299 3.78125\n",
      "399 1.875\n",
      "499 0.9375\n",
      "599 0.59375\n",
      "699 0.40625\n",
      "799 0.1875\n",
      "899 0.15625\n",
      "999 0.1875\n",
      "1099 0.15625\n",
      "1199 0.0625\n",
      "1299 0.03125\n",
      "1399 0.03125\n",
      "1499 0.125\n",
      "1599 0.0625\n",
      "1699 0.03125\n",
      "1799 0.125\n",
      "1899 0.0625\n"
     ]
    },
    {
     "data": {
      "text/plain": [
       "[<matplotlib.lines.Line2D at 0x24ceb3a1c30>]"
      ]
     },
     "execution_count": 14,
     "metadata": {},
     "output_type": "execute_result"
    },
    {
     "data": {
      "image/png": "[encoded data removed]",
      "text/plain": [
       "<Figure size 640x480 with 1 Axes>"
      ]
     },
     "metadata": {},
     "output_type": "display_data"
    }
   ],
   "source": [
    "import matplotlib.pyplot as plt\n",
    "\n",
    "X_train_torch = torch.tensor(X_train, dtype=torch.float32)\n",
    "Y_train_torch = torch.tensor(Y_train, dtype=torch.float32)\n",
    "X_test_torch = torch.tensor(X_test, dtype=torch.float32)\n",
    "Y_test_torch = torch.tensor(Y_test, dtype=torch.float32)\n",
    "\n",
    "D_in, H1, H2, D_out = 4, 10, 10, 1\n",
    "\n",
    "model = torch.nn.Sequential(\n",
    "    torch.nn.Linear(D_in, H1),\n",
    "    torch.nn.ReLU(),\n",
    "    torch.nn.Linear(H1, H2),\n",
    "    torch.nn.ReLU(),\n",
    "    torch.nn.Linear(H2, D_out), \n",
    "    torch.nn.Sigmoid()\n",
    ")\n",
    "\n",
    "loss_fn = torch.nn.MSELoss(reduction='sum')\n",
    "learning_rate = 1e-8\n",
    "last = 1.0\n",
    "error = 1.0\n",
    "t = 0\n",
    "errors = []\n",
    "epochs = 2000\n",
    "\n",
    "while (t<epochs):\n",
    "    y_pred = model(X_train_torch)\n",
    "\n",
    "    loss = loss_fn(y_pred, Y_train_torch)\n",
    "    if t % 100 == 99:\n",
    "        print(t, error)\n",
    "\n",
    "    model.zero_grad()\n",
    "\n",
    "    loss.backward()\n",
    "    error = abs(last-loss.item())\n",
    "    last = loss.item()\n",
    "\n",
    "    with torch.no_grad():\n",
    "        for param in model.parameters():\n",
    "            param -= learning_rate * param.grad\n",
    "\n",
    "    errors.append(error)\n",
    "    t += 1\n",
    "    if (t == epochs-1): break\n",
    "\n",
    "plt.plot(errors[1:])\n",
    "\n",
    "\n"
   ]
  },
  {
   "cell_type": "code",
   "execution_count": 17,
   "metadata": {},
   "outputs": [
    {
     "data": {
      "text/html": [
       "<div>\n",
       "<style scoped>\n",
       "    .dataframe tbody tr th:only-of-type {\n",
       "        vertical-align: middle;\n",
       "    }\n",
       "\n",
       "    .dataframe tbody tr th {\n",
       "        vertical-align: top;\n",
       "    }\n",
       "\n",
       "    .dataframe thead th {\n",
       "        text-align: right;\n",
       "    }\n",
       "</style>\n",
       "<table border=\"1\" class=\"dataframe\">\n",
       "  <thead>\n",
       "    <tr style=\"text-align: right;\">\n",
       "      <th></th>\n",
       "      <th>Train Accuracy</th>\n",
       "      <th>Train Misclass</th>\n",
       "      <th>Test Accuracy</th>\n",
       "      <th>Test Misclass</th>\n",
       "      <th>train Time</th>\n",
       "    </tr>\n",
       "  </thead>\n",
       "  <tbody>\n",
       "    <tr>\n",
       "      <th>Logistic Regression</th>\n",
       "      <td>0.745000</td>\n",
       "      <td>357</td>\n",
       "      <td>0.720</td>\n",
       "      <td>168</td>\n",
       "      <td>0.005650</td>\n",
       "    </tr>\n",
       "    <tr>\n",
       "      <th>SVM</th>\n",
       "      <td>0.762857</td>\n",
       "      <td>332</td>\n",
       "      <td>0.715</td>\n",
       "      <td>171</td>\n",
       "      <td>0.057279</td>\n",
       "    </tr>\n",
       "    <tr>\n",
       "      <th>LGB</th>\n",
       "      <td>0.853571</td>\n",
       "      <td>205</td>\n",
       "      <td>0.705</td>\n",
       "      <td>177</td>\n",
       "      <td>0.113074</td>\n",
       "    </tr>\n",
       "  </tbody>\n",
       "</table>\n",
       "</div>"
      ],
      "text/plain": [
       "                     Train Accuracy  Train Misclass  Test Accuracy  \\\n",
       "Logistic Regression        0.745000             357          0.720   \n",
       "SVM                        0.762857             332          0.715   \n",
       "LGB                        0.853571             205          0.705   \n",
       "\n",
       "                     Test Misclass  train Time  \n",
       "Logistic Regression            168    0.005650  \n",
       "SVM                            171    0.057279  \n",
       "LGB                            177    0.113074  "
      ]
     },
     "metadata": {},
     "output_type": "display_data"
    }
   ],
   "source": [
    "import pandas as pd\n",
    "\n",
    "Results = pd.DataFrame.from_dict(Model_Results, orient='index', columns= [\"Train Accuracy\",\"Train Misclass\", \"Test Accuracy\", \"Test Misclass\", \"train Time\"])\n",
    "display(Results)"
   ]
  }
 ],
 "metadata": {
  "kernelspec": {
   "display_name": "Python 3",
   "language": "python",
   "name": "python3"
  },
  "language_info": {
   "codemirror_mode": {
    "name": "ipython",
    "version": 3
   },
   "file_extension": ".py",
   "mimetype": "text/x-python",
   "name": "python",
   "nbconvert_exporter": "python",
   "pygments_lexer": "ipython3",
   "version": "3.10.6"
  }
 },
 "nbformat": 4,
 "nbformat_minor": 2
}
