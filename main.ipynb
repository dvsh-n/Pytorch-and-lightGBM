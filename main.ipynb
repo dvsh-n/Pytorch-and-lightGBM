{
 "cells": [
  {
   "cell_type": "markdown",
   "metadata": {},
   "source": [
    "Importing necessrary libraries"
   ]
  },
  {
   "cell_type": "code",
   "execution_count": 1,
   "metadata": {},
   "outputs": [],
   "source": [
    "import numpy as np\n",
    "import random\n",
    "import torch\n",
    "from torch.autograd import Variable\n",
    "import torch.nn as nn\n",
    "from scipy.special import expit, logit\n",
    "from sklearn.model_selection import train_test_split\n",
    "from sklearn.metrics import accuracy_score\n",
    "import matplotlib.pyplot as plt\n",
    "import time"
   ]
  },
  {
   "cell_type": "markdown",
   "metadata": {},
   "source": [
    "Generating Data randomly with a nonlinear calculation method for target"
   ]
  },
  {
   "cell_type": "code",
   "execution_count": 2,
   "metadata": {},
   "outputs": [],
   "source": [
    "n_samples = 2000\n",
    "random_state = np.random.RandomState(13)\n",
    "x1 = random_state.uniform(size=n_samples)\n",
    "x2 = random_state.uniform(size=n_samples)\n",
    "x3 = random_state.randint(0, 4, size=n_samples)\n",
    "x4 = random_state.uniform(size=n_samples) \n",
    "X = np.c_[x1,x2,x3,x4]\n",
    "\n",
    "p = expit(np.sin(3 * x1) - 4 * x2 + x3)\n",
    "Y = random_state.binomial(1, p, size=n_samples)"
   ]
  },
  {
   "cell_type": "markdown",
   "metadata": {},
   "source": [
    "Standardizing and generating Train-Test Split"
   ]
  },
  {
   "cell_type": "code",
   "execution_count": 3,
   "metadata": {},
   "outputs": [],
   "source": [
    "from sklearn.preprocessing import StandardScaler\n",
    "from sklearn.model_selection import train_test_split\n",
    "\n",
    "stdsc = StandardScaler()\n",
    "X_std = stdsc.fit_transform(X)\n",
    "\n",
    "X_train, X_test, Y_train, Y_test = train_test_split(X_std, Y, test_size=0.3, random_state=0)"
   ]
  },
  {
   "cell_type": "markdown",
   "metadata": {},
   "source": [
    "Model Results Dict"
   ]
  },
  {
   "cell_type": "code",
   "execution_count": 4,
   "metadata": {},
   "outputs": [],
   "source": [
    "Model_Results = {}"
   ]
  },
  {
   "cell_type": "markdown",
   "metadata": {},
   "source": [
    "Sklearn Logistic Regression"
   ]
  },
  {
   "cell_type": "code",
   "execution_count": 5,
   "metadata": {},
   "outputs": [
    {
     "name": "stdout",
     "output_type": "stream",
     "text": [
      "(0.745, 0.72, 0.004001617431640625)\n"
     ]
    }
   ],
   "source": [
    "from sklearn.linear_model import LogisticRegression\n",
    "from sklearn.metrics import accuracy_score\n",
    "\n",
    "LR_model = LogisticRegression()\n",
    "t_start = time.time()\n",
    "LR_model.fit(X_train, Y_train)\n",
    "t_end = time.time()\n",
    "\n",
    "LR_training_time = t_end - t_start\n",
    "\n",
    "Y_LR_Pred = LR_model.predict(X_train)\n",
    "LR_train_accuracy = accuracy_score(Y_train, Y_LR_Pred)\n",
    "\n",
    "Y_LR_Pred_t = LR_model.predict(X_test)\n",
    "LR_test_accuracy = accuracy_score(Y_test, Y_LR_Pred_t)\n",
    "\n",
    "Model_Results[\"Logistic Regression\"] = (LR_train_accuracy, LR_test_accuracy, LR_training_time)\n",
    "print(Model_Results[\"Logistic Regression\"])"
   ]
  },
  {
   "cell_type": "markdown",
   "metadata": {},
   "source": [
    "SVM"
   ]
  },
  {
   "cell_type": "code",
   "execution_count": 7,
   "metadata": {},
   "outputs": [
    {
     "name": "stdout",
     "output_type": "stream",
     "text": [
      "(0.7628571428571429, 0.715, 0.058847665786743164)\n"
     ]
    }
   ],
   "source": [
    "from sklearn.svm import SVC\n",
    "\n",
    "SVM_model = SVC()\n",
    "t_start = time.time()\n",
    "SVM_model.fit(X_train, Y_train)\n",
    "t_end = time.time()\n",
    "\n",
    "SVM_training_time = t_end - t_start\n",
    "\n",
    "Y_SVM_Pred = SVM_model.predict(X_train)\n",
    "SVM_train_accuracy = accuracy_score(Y_train, Y_SVM_Pred)\n",
    "\n",
    "Y_SVM_Pred_t = SVM_model.predict(X_test)\n",
    "SVM_test_accuracy = accuracy_score(Y_test, Y_SVM_Pred_t)\n",
    "\n",
    "Model_Results[\"SVM\"] = (SVM_train_accuracy, SVM_test_accuracy, SVM_training_time)\n",
    "print(Model_Results[\"SVM\"])"
   ]
  },
  {
   "cell_type": "markdown",
   "metadata": {},
   "source": [
    "LGBM"
   ]
  },
  {
   "cell_type": "code",
   "execution_count": 13,
   "metadata": {},
   "outputs": [
    {
     "name": "stdout",
     "output_type": "stream",
     "text": [
      "(0.8535714285714285, 0.8535714285714285, 0.128615140914917)\n"
     ]
    }
   ],
   "source": [
    "import lightgbm as lgb\n",
    "import warnings\n",
    "warnings.filterwarnings(\"ignore\")\n",
    "\n",
    "LGB_train = lgb.Dataset(X_train, Y_train)\n",
    "LGB_test = lgb.Dataset(X_test, Y_test)\n",
    "\n",
    "## defaults num_leaves = 31,\n",
    "params = {'force_col_wise': True, 'boosting_type': 'gbdt', 'num_iterations': 100,\n",
    "         'n_estimators': 100, 'max_depth': 5, 'num_leaves': 100, 'feature_fraction': 0.75,\n",
    "         'bagging_fraction': 0.75, 'bagging_freq': 1, 'lambda': 0.5, 'random_state': 3, 'verbose': -1}\n",
    "\n",
    "t_start = time.time()\n",
    "LGB_model = lgb.train(params, LGB_train, valid_sets=[LGB_train, LGB_test])\n",
    "t_end = time.time()\n",
    "\n",
    "LGB_training_time = t_end - t_start\n",
    "\n",
    "Y_LGB_Pred = LGB_model.predict(X_train)\n",
    "Y_LGB_Pred = np.where(Y_LGB_Pred<0.5,0,1)\n",
    "LGB_train_accuracy = accuracy_score(Y_train, Y_LGB_Pred)\n",
    "\n",
    "Y_LGB_Pred_t = LGB_model.predict(X_test)\n",
    "Y_LGB_Pred_t = np.where(Y_LGB_Pred<0.5,0,1)\n",
    "LGB_test_accuracy = accuracy_score(Y_train, Y_LGB_Pred_t)\n",
    "\n",
    "Model_Results[\"LGB\"] = (LGB_train_accuracy, LGB_test_accuracy, LGB_training_time)\n",
    "print(Model_Results[\"LGB\"])"
   ]
  },
  {
   "cell_type": "markdown",
   "metadata": {},
   "source": [
    "Pytorch"
   ]
  },
  {
   "cell_type": "code",
   "execution_count": 46,
   "metadata": {},
   "outputs": [
    {
     "data": {
      "text/plain": [
       "[<matplotlib.lines.Line2D at 0x2123947c430>]"
      ]
     },
     "execution_count": 46,
     "metadata": {},
     "output_type": "execute_result"
    },
    {
     "data": {
      "image/png": "[encoded data removed]",
      "text/plain": [
       "<Figure size 640x480 with 1 Axes>"
      ]
     },
     "metadata": {},
     "output_type": "display_data"
    }
   ],
   "source": [
    "import matplotlib.pyplot as plt\n",
    "\n",
    "X_train_torch = torch.tensor(X_train, dtype=torch.float32)\n",
    "Y_train_torch = torch.tensor(Y_train, dtype=torch.float32)\n",
    "X_test_torch = torch.tensor(X_test, dtype=torch.float32)\n",
    "Y_test_torch = torch.tensor(Y_test, dtype=torch.float32)\n",
    "\n",
    "D_in, H1, H2, D_out = 4, 7, 7, 4\n",
    "\n",
    "model = torch.nn.Sequential(\n",
    "    torch.nn.Linear(D_in, H1),\n",
    "    torch.nn.ReLU(),\n",
    "    torch.nn.Linear(H1, H2),\n",
    "    torch.nn.ReLU(),\n",
    "    torch.nn.Linear(H2, D_out)\n",
    "\n",
    ")\n",
    "\n",
    "loss_fn = torch.nn.MSELoss(reduction='sum')\n",
    "learning_rate = 1e-2\n",
    "last = 1.0\n",
    "error = 1.0\n",
    "t = 0\n",
    "errors = []\n",
    "\n",
    "while (t<5000 and error>0.000001):\n",
    "    if t % 100 == 99:\n",
    "        print(t, loss.item())\n",
    "\n",
    "    for i in range(X_train_torch.shape[0]):\n",
    "        Y_pred = model(X_train_torch[i])\n",
    "        loss = loss_fn(Y_pred, Y_train_torch[i])\n",
    "        model.zero_grad()\n",
    "        loss.backward()\n",
    "        error = abs(last-loss.item())\n",
    "        errors.append(error)\n",
    "        last = loss.item()\n",
    "\n",
    "        with torch.no_grad():\n",
    "            for param in model.parameters():\n",
    "                param -= learning_rate * param.grad\n",
    "\n",
    "        t += 1\n",
    "\n",
    "plt.plot(errors)"
   ]
  },
  {
   "cell_type": "code",
   "execution_count": 44,
   "metadata": {},
   "outputs": [
    {
     "name": "stdout",
     "output_type": "stream",
     "text": [
      "torch.Size([600])\n",
      "(1400, 4)\n",
      "torch.Size([1400, 4])\n",
      "(1400,)\n",
      "torch.Size([1400])\n",
      "[0 0 1 1 0 0 0 1 1 1 1 1 0 1 1 0 0 0 1 0 0 0 0 0 1 0 1 0 0 1 1 1 0 0 1 0 0\n",
      " 0 1 1 0 0 0 1 0 0 0 1 1 0 1 1 0 0 0 0 1 1 0 1 0 1 1 0 0 0 1 0 1 0 0 0 0 0\n",
      " 0 1 1 0 0 1 0 1 1 1 0 0 1 1 1 0 1 1 0 1 0 0 0 1 1 0 0 1 0 0 0 1 1 1 0 1 0\n",
      " 1 1 0 0 0 0 0 1 0 0 0 1 1 0 0 0 1 0 0 0 0 0 1 1 1 1 1 0 1 1 1 0 1 0 1 0 1\n",
      " 1 0 1 1 0 0 1 0 1 0 0 0 1 1 1 1 1 0 0 0 0 0 1 0 1 0 1 0 0 0 0 0 0 1 1 1 0\n",
      " 0 1 1 1 0 1 0 0 0 1 1 0 0 0 1 1 1 1 0 0 0 1 1 1 1 0 1 1 0 1 1 0 1 1 0 0 0\n",
      " 0 0 1 1 1 1 0 1 1 0 0 1 0 1 0 1 1 1 1 0 1 0 1 1 1 0 1 0 1 1 1 0 0 1 1 0 1\n",
      " 0 0 1 0 0 0 1 0 0 0 1 1 0 1 0 1 1 0 1 0 0 0 0 1 0 1 0 0 0 1 1 0 0 1 0 1 1\n",
      " 0 1 1 0 0 0 1 1 1 1 1 1 1 0 0 0 0 1 1 1 0 0 0 1 1 1 0 0 1 1 0 0 0 1 1 1 1\n",
      " 0 0 1 0 1 0 0 0 1 0 0 0 0 1 0 1 1 0 1 1 0 1 0 0 1 1 1 1 0 1 0 1 0 1 0 0 0\n",
      " 0 1 1 1 0 0 1 1 1 0 1 1 0 0 0 0 0 0 1 1 1 0 1 0 1 1 0 1 1 1 1 0 0 1 1 1 1\n",
      " 1 1 1 0 0 0 0 1 0 0 0 1 1 1 1 0 1 0 1 0 0 0 0 1 1 0 1 1 0 1 1 1 0 1 1 1 1\n",
      " 1 0 0 1 0 0 1 0 1 1 1 1 1 0 1 0 0 0 1 1 1 1 0 0 1 1 0 1 0 1 0 0 1 1 0 0 0\n",
      " 1 0 0 1 0 0 1 0 1 1 0 1 0 0 1 0 0 1 1 1 1 0 1 0 0 1 1 0 1 1 1 0 1 1 0 0 0\n",
      " 1 0 0 1 0 0 1 1 1 1 1 0 0 0 1 0 1 0 0 1 1 1 0 0 1 1 1 0 0 0 0 1 1 1 1 1 1\n",
      " 0 0 0 1 0 0 0 0 0 0 1 1 1 1 1 1 0 1 1 0 0 0 1 0 0 1 0 1 0 0 0 1 1 1 0 1 0\n",
      " 1 0 1 1 1 1 0 0]\n",
      "tensor([0., 0., 1., 1., 0., 0., 0., 1., 1., 1., 1., 1., 0., 1., 1., 0., 0., 0.,\n",
      "        1., 0., 0., 0., 0., 0., 1., 0., 1., 0., 0., 1., 1., 1., 0., 0., 1., 0.,\n",
      "        0., 0., 1., 1., 0., 0., 0., 1., 0., 0., 0., 1., 1., 0., 1., 1., 0., 0.,\n",
      "        0., 0., 1., 1., 0., 1., 0., 1., 1., 0., 0., 0., 1., 0., 1., 0., 0., 0.,\n",
      "        0., 0., 0., 1., 1., 0., 0., 1., 0., 1., 1., 1., 0., 0., 1., 1., 1., 0.,\n",
      "        1., 1., 0., 1., 0., 0., 0., 1., 1., 0., 0., 1., 0., 0., 0., 1., 1., 1.,\n",
      "        0., 1., 0., 1., 1., 0., 0., 0., 0., 0., 1., 0., 0., 0., 1., 1., 0., 0.,\n",
      "        0., 1., 0., 0., 0., 0., 0., 1., 1., 1., 1., 1., 0., 1., 1., 1., 0., 1.,\n",
      "        0., 1., 0., 1., 1., 0., 1., 1., 0., 0., 1., 0., 1., 0., 0., 0., 1., 1.,\n",
      "        1., 1., 1., 0., 0., 0., 0., 0., 1., 0., 1., 0., 1., 0., 0., 0., 0., 0.,\n",
      "        0., 1., 1., 1., 0., 0., 1., 1., 1., 0., 1., 0., 0., 0., 1., 1., 0., 0.,\n",
      "        0., 1., 1., 1., 1., 0., 0., 0., 1., 1., 1., 1., 0., 1., 1., 0., 1., 1.,\n",
      "        0., 1., 1., 0., 0., 0., 0., 0., 1., 1., 1., 1., 0., 1., 1., 0., 0., 1.,\n",
      "        0., 1., 0., 1., 1., 1., 1., 0., 1., 0., 1., 1., 1., 0., 1., 0., 1., 1.,\n",
      "        1., 0., 0., 1., 1., 0., 1., 0., 0., 1., 0., 0., 0., 1., 0., 0., 0., 1.,\n",
      "        1., 0., 1., 0., 1., 1., 0., 1., 0., 0., 0., 0., 1., 0., 1., 0., 0., 0.,\n",
      "        1., 1., 0., 0., 1., 0., 1., 1., 0., 1., 1., 0., 0., 0., 1., 1., 1., 1.,\n",
      "        1., 1., 1., 0., 0., 0., 0., 1., 1., 1., 0., 0., 0., 1., 1., 1., 0., 0.,\n",
      "        1., 1., 0., 0., 0., 1., 1., 1., 1., 0., 0., 1., 0., 1., 0., 0., 0., 1.,\n",
      "        0., 0., 0., 0., 1., 0., 1., 1., 0., 1., 1., 0., 1., 0., 0., 1., 1., 1.,\n",
      "        1., 0., 1., 0., 1., 0., 1., 0., 0., 0., 0., 1., 1., 1., 0., 0., 1., 1.,\n",
      "        1., 0., 1., 1., 0., 0., 0., 0., 0., 0., 1., 1., 1., 0., 1., 0., 1., 1.,\n",
      "        0., 1., 1., 1., 1., 0., 0., 1., 1., 1., 1., 1., 1., 1., 0., 0., 0., 0.,\n",
      "        1., 0., 0., 0., 1., 1., 1., 1., 0., 1., 0., 1., 0., 0., 0., 0., 1., 1.,\n",
      "        0., 1., 1., 0., 1., 1., 1., 0., 1., 1., 1., 1., 1., 0., 0., 1., 0., 0.,\n",
      "        1., 0., 1., 1., 1., 1., 1., 0., 1., 0., 0., 0., 1., 1., 1., 1., 0., 0.,\n",
      "        1., 1., 0., 1., 0., 1., 0., 0., 1., 1., 0., 0., 0., 1., 0., 0., 1., 0.,\n",
      "        0., 1., 0., 1., 1., 0., 1., 0., 0., 1., 0., 0., 1., 1., 1., 1., 0., 1.,\n",
      "        0., 0., 1., 1., 0., 1., 1., 1., 0., 1., 1., 0., 0., 0., 1., 0., 0., 1.,\n",
      "        0., 0., 1., 1., 1., 1., 1., 0., 0., 0., 1., 0., 1., 0., 0., 1., 1., 1.,\n",
      "        0., 0., 1., 1., 1., 0., 0., 0., 0., 1., 1., 1., 1., 1., 1., 0., 0., 0.,\n",
      "        1., 0., 0., 0., 0., 0., 0., 1., 1., 1., 1., 1., 1., 0., 1., 1., 0., 0.,\n",
      "        0., 1., 0., 0., 1., 0., 1., 0., 0., 0., 1., 1., 1., 0., 1., 0., 1., 0.,\n",
      "        1., 1., 1., 1., 0., 0.], dtype=torch.float64)\n"
     ]
    }
   ],
   "source": [
    "print()"
   ]
  }
 ],
 "metadata": {
  "kernelspec": {
   "display_name": "Python 3",
   "language": "python",
   "name": "python3"
  },
  "language_info": {
   "codemirror_mode": {
    "name": "ipython",
    "version": 3
   },
   "file_extension": ".py",
   "mimetype": "text/x-python",
   "name": "python",
   "nbconvert_exporter": "python",
   "pygments_lexer": "ipython3",
   "version": "3.10.6"
  }
 },
 "nbformat": 4,
 "nbformat_minor": 2
}
