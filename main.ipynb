{
 "cells": [
  {
   "cell_type": "markdown",
   "metadata": {},
   "source": [
    "Importing necessrary libraries"
   ]
  },
  {
   "cell_type": "code",
   "execution_count": 1,
   "metadata": {},
   "outputs": [],
   "source": [
    "import numpy as np\n",
    "import random\n",
    "import torch\n",
    "from torch.autograd import Variable\n",
    "import torch.nn as nn\n",
    "from scipy.special import expit, logit\n",
    "from sklearn.model_selection import train_test_split\n",
    "from sklearn.metrics import accuracy_score\n",
    "import matplotlib.pyplot as plt\n",
    "import time"
   ]
  },
  {
   "cell_type": "markdown",
   "metadata": {},
   "source": [
    "Generating Data randomly with a nonlinear calculation method for target"
   ]
  },
  {
   "cell_type": "code",
   "execution_count": 2,
   "metadata": {},
   "outputs": [],
   "source": [
    "n_samples = 2000\n",
    "random_state = np.random.RandomState(13)\n",
    "x1 = random_state.uniform(size=n_samples)\n",
    "x2 = random_state.uniform(size=n_samples)\n",
    "x3 = random_state.randint(0, 4, size=n_samples)\n",
    "x4 = random_state.uniform(size=n_samples) \n",
    "X = np.c_[x1,x2,x3,x4]\n",
    "\n",
    "p = expit(np.sin(3 * x1) - 4 * x2 + x3)\n",
    "Y = random_state.binomial(1, p, size=n_samples)"
   ]
  },
  {
   "cell_type": "markdown",
   "metadata": {},
   "source": [
    "Standardizing and generating Train-Test Split"
   ]
  },
  {
   "cell_type": "code",
   "execution_count": 3,
   "metadata": {},
   "outputs": [],
   "source": [
    "from sklearn.preprocessing import StandardScaler\n",
    "from sklearn.model_selection import train_test_split\n",
    "\n",
    "stdsc = StandardScaler()\n",
    "X_std = stdsc.fit_transform(X)\n",
    "\n",
    "X_train, X_test, Y_train, Y_test = train_test_split(X_std, Y, test_size=0.3, random_state=0)"
   ]
  },
  {
   "cell_type": "markdown",
   "metadata": {},
   "source": [
    "Model Results Dict"
   ]
  },
  {
   "cell_type": "code",
   "execution_count": 4,
   "metadata": {},
   "outputs": [],
   "source": [
    "Model_Results = {}"
   ]
  },
  {
   "cell_type": "markdown",
   "metadata": {},
   "source": [
    "Sklearn Logistic Regression"
   ]
  },
  {
   "cell_type": "code",
   "execution_count": 5,
   "metadata": {},
   "outputs": [
    {
     "name": "stdout",
     "output_type": "stream",
     "text": [
      "(0.745, 0.72, 0.004001617431640625)\n"
     ]
    }
   ],
   "source": [
    "from sklearn.linear_model import LogisticRegression\n",
    "from sklearn.metrics import accuracy_score\n",
    "\n",
    "LR_model = LogisticRegression()\n",
    "t_start = time.time()\n",
    "LR_model.fit(X_train, Y_train)\n",
    "t_end = time.time()\n",
    "\n",
    "LR_training_time = t_end - t_start\n",
    "\n",
    "Y_LR_Pred = LR_model.predict(X_train)\n",
    "LR_train_accuracy = accuracy_score(Y_train, Y_LR_Pred)\n",
    "\n",
    "Y_LR_Pred_t = LR_model.predict(X_test)\n",
    "LR_test_accuracy = accuracy_score(Y_test, Y_LR_Pred_t)\n",
    "\n",
    "Model_Results[\"Logistic Regression\"] = (LR_train_accuracy, LR_test_accuracy, LR_training_time)\n",
    "print(Model_Results[\"Logistic Regression\"])"
   ]
  },
  {
   "cell_type": "markdown",
   "metadata": {},
   "source": [
    "SVM"
   ]
  },
  {
   "cell_type": "code",
   "execution_count": 7,
   "metadata": {},
   "outputs": [
    {
     "name": "stdout",
     "output_type": "stream",
     "text": [
      "(0.7628571428571429, 0.715, 0.058847665786743164)\n"
     ]
    }
   ],
   "source": [
    "from sklearn.svm import SVC\n",
    "\n",
    "SVM_model = SVC()\n",
    "t_start = time.time()\n",
    "SVM_model.fit(X_train, Y_train)\n",
    "t_end = time.time()\n",
    "\n",
    "SVM_training_time = t_end - t_start\n",
    "\n",
    "Y_SVM_Pred = SVM_model.predict(X_train)\n",
    "SVM_train_accuracy = accuracy_score(Y_train, Y_SVM_Pred)\n",
    "\n",
    "Y_SVM_Pred_t = SVM_model.predict(X_test)\n",
    "SVM_test_accuracy = accuracy_score(Y_test, Y_SVM_Pred_t)\n",
    "\n",
    "Model_Results[\"SVM\"] = (SVM_train_accuracy, SVM_test_accuracy, SVM_training_time)\n",
    "print(Model_Results[\"SVM\"])"
   ]
  },
  {
   "cell_type": "markdown",
   "metadata": {},
   "source": [
    "LGBM"
   ]
  },
  {
   "cell_type": "code",
   "execution_count": null,
   "metadata": {},
   "outputs": [],
   "source": []
  }
 ],
 "metadata": {
  "kernelspec": {
   "display_name": "Python 3",
   "language": "python",
   "name": "python3"
  },
  "language_info": {
   "codemirror_mode": {
    "name": "ipython",
    "version": 3
   },
   "file_extension": ".py",
   "mimetype": "text/x-python",
   "name": "python",
   "nbconvert_exporter": "python",
   "pygments_lexer": "ipython3",
   "version": "3.10.6"
  }
 },
 "nbformat": 4,
 "nbformat_minor": 2
}
